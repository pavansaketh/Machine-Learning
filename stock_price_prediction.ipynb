{
  "nbformat": 4,
  "nbformat_minor": 0,
  "metadata": {
    "colab": {
      "provenance": []
    },
    "kernelspec": {
      "name": "python3",
      "display_name": "Python 3"
    },
    "language_info": {
      "name": "python"
    }
  },
  "cells": [
    {
      "cell_type": "code",
      "execution_count": 13,
      "metadata": {
        "colab": {
          "base_uri": "https://localhost:8080/",
          "height": 74
        },
        "id": "1A0SFtPTJUyk",
        "outputId": "4e462072-fff0-4182-d8dc-39a615a5969f"
      },
      "outputs": [
        {
          "output_type": "display_data",
          "data": {
            "text/plain": [
              "<IPython.core.display.HTML object>"
            ],
            "text/html": [
              "\n",
              "     <input type=\"file\" id=\"files-4ac3fea6-81a6-40dc-ab45-9549282ef8eb\" name=\"files[]\" multiple disabled\n",
              "        style=\"border:none\" />\n",
              "     <output id=\"result-4ac3fea6-81a6-40dc-ab45-9549282ef8eb\">\n",
              "      Upload widget is only available when the cell has been executed in the\n",
              "      current browser session. Please rerun this cell to enable.\n",
              "      </output>\n",
              "      <script>// Copyright 2017 Google LLC\n",
              "//\n",
              "// Licensed under the Apache License, Version 2.0 (the \"License\");\n",
              "// you may not use this file except in compliance with the License.\n",
              "// You may obtain a copy of the License at\n",
              "//\n",
              "//      http://www.apache.org/licenses/LICENSE-2.0\n",
              "//\n",
              "// Unless required by applicable law or agreed to in writing, software\n",
              "// distributed under the License is distributed on an \"AS IS\" BASIS,\n",
              "// WITHOUT WARRANTIES OR CONDITIONS OF ANY KIND, either express or implied.\n",
              "// See the License for the specific language governing permissions and\n",
              "// limitations under the License.\n",
              "\n",
              "/**\n",
              " * @fileoverview Helpers for google.colab Python module.\n",
              " */\n",
              "(function(scope) {\n",
              "function span(text, styleAttributes = {}) {\n",
              "  const element = document.createElement('span');\n",
              "  element.textContent = text;\n",
              "  for (const key of Object.keys(styleAttributes)) {\n",
              "    element.style[key] = styleAttributes[key];\n",
              "  }\n",
              "  return element;\n",
              "}\n",
              "\n",
              "// Max number of bytes which will be uploaded at a time.\n",
              "const MAX_PAYLOAD_SIZE = 100 * 1024;\n",
              "\n",
              "function _uploadFiles(inputId, outputId) {\n",
              "  const steps = uploadFilesStep(inputId, outputId);\n",
              "  const outputElement = document.getElementById(outputId);\n",
              "  // Cache steps on the outputElement to make it available for the next call\n",
              "  // to uploadFilesContinue from Python.\n",
              "  outputElement.steps = steps;\n",
              "\n",
              "  return _uploadFilesContinue(outputId);\n",
              "}\n",
              "\n",
              "// This is roughly an async generator (not supported in the browser yet),\n",
              "// where there are multiple asynchronous steps and the Python side is going\n",
              "// to poll for completion of each step.\n",
              "// This uses a Promise to block the python side on completion of each step,\n",
              "// then passes the result of the previous step as the input to the next step.\n",
              "function _uploadFilesContinue(outputId) {\n",
              "  const outputElement = document.getElementById(outputId);\n",
              "  const steps = outputElement.steps;\n",
              "\n",
              "  const next = steps.next(outputElement.lastPromiseValue);\n",
              "  return Promise.resolve(next.value.promise).then((value) => {\n",
              "    // Cache the last promise value to make it available to the next\n",
              "    // step of the generator.\n",
              "    outputElement.lastPromiseValue = value;\n",
              "    return next.value.response;\n",
              "  });\n",
              "}\n",
              "\n",
              "/**\n",
              " * Generator function which is called between each async step of the upload\n",
              " * process.\n",
              " * @param {string} inputId Element ID of the input file picker element.\n",
              " * @param {string} outputId Element ID of the output display.\n",
              " * @return {!Iterable<!Object>} Iterable of next steps.\n",
              " */\n",
              "function* uploadFilesStep(inputId, outputId) {\n",
              "  const inputElement = document.getElementById(inputId);\n",
              "  inputElement.disabled = false;\n",
              "\n",
              "  const outputElement = document.getElementById(outputId);\n",
              "  outputElement.innerHTML = '';\n",
              "\n",
              "  const pickedPromise = new Promise((resolve) => {\n",
              "    inputElement.addEventListener('change', (e) => {\n",
              "      resolve(e.target.files);\n",
              "    });\n",
              "  });\n",
              "\n",
              "  const cancel = document.createElement('button');\n",
              "  inputElement.parentElement.appendChild(cancel);\n",
              "  cancel.textContent = 'Cancel upload';\n",
              "  const cancelPromise = new Promise((resolve) => {\n",
              "    cancel.onclick = () => {\n",
              "      resolve(null);\n",
              "    };\n",
              "  });\n",
              "\n",
              "  // Wait for the user to pick the files.\n",
              "  const files = yield {\n",
              "    promise: Promise.race([pickedPromise, cancelPromise]),\n",
              "    response: {\n",
              "      action: 'starting',\n",
              "    }\n",
              "  };\n",
              "\n",
              "  cancel.remove();\n",
              "\n",
              "  // Disable the input element since further picks are not allowed.\n",
              "  inputElement.disabled = true;\n",
              "\n",
              "  if (!files) {\n",
              "    return {\n",
              "      response: {\n",
              "        action: 'complete',\n",
              "      }\n",
              "    };\n",
              "  }\n",
              "\n",
              "  for (const file of files) {\n",
              "    const li = document.createElement('li');\n",
              "    li.append(span(file.name, {fontWeight: 'bold'}));\n",
              "    li.append(span(\n",
              "        `(${file.type || 'n/a'}) - ${file.size} bytes, ` +\n",
              "        `last modified: ${\n",
              "            file.lastModifiedDate ? file.lastModifiedDate.toLocaleDateString() :\n",
              "                                    'n/a'} - `));\n",
              "    const percent = span('0% done');\n",
              "    li.appendChild(percent);\n",
              "\n",
              "    outputElement.appendChild(li);\n",
              "\n",
              "    const fileDataPromise = new Promise((resolve) => {\n",
              "      const reader = new FileReader();\n",
              "      reader.onload = (e) => {\n",
              "        resolve(e.target.result);\n",
              "      };\n",
              "      reader.readAsArrayBuffer(file);\n",
              "    });\n",
              "    // Wait for the data to be ready.\n",
              "    let fileData = yield {\n",
              "      promise: fileDataPromise,\n",
              "      response: {\n",
              "        action: 'continue',\n",
              "      }\n",
              "    };\n",
              "\n",
              "    // Use a chunked sending to avoid message size limits. See b/62115660.\n",
              "    let position = 0;\n",
              "    do {\n",
              "      const length = Math.min(fileData.byteLength - position, MAX_PAYLOAD_SIZE);\n",
              "      const chunk = new Uint8Array(fileData, position, length);\n",
              "      position += length;\n",
              "\n",
              "      const base64 = btoa(String.fromCharCode.apply(null, chunk));\n",
              "      yield {\n",
              "        response: {\n",
              "          action: 'append',\n",
              "          file: file.name,\n",
              "          data: base64,\n",
              "        },\n",
              "      };\n",
              "\n",
              "      let percentDone = fileData.byteLength === 0 ?\n",
              "          100 :\n",
              "          Math.round((position / fileData.byteLength) * 100);\n",
              "      percent.textContent = `${percentDone}% done`;\n",
              "\n",
              "    } while (position < fileData.byteLength);\n",
              "  }\n",
              "\n",
              "  // All done.\n",
              "  yield {\n",
              "    response: {\n",
              "      action: 'complete',\n",
              "    }\n",
              "  };\n",
              "}\n",
              "\n",
              "scope.google = scope.google || {};\n",
              "scope.google.colab = scope.google.colab || {};\n",
              "scope.google.colab._files = {\n",
              "  _uploadFiles,\n",
              "  _uploadFilesContinue,\n",
              "};\n",
              "})(self);\n",
              "</script> "
            ]
          },
          "metadata": {}
        },
        {
          "output_type": "stream",
          "name": "stdout",
          "text": [
            "Saving Stock_Price_data_set.xlsx to Stock_Price_data_set (1).xlsx\n"
          ]
        }
      ],
      "source": [
        "from google.colab import files\n",
        "uploaded = files.upload()"
      ]
    },
    {
      "cell_type": "code",
      "source": [
        "import pandas as pd\n",
        "\n",
        "df = pd.read_excel('Stock_Price_data_set.xlsx')\n",
        "\n",
        "df.head()"
      ],
      "metadata": {
        "colab": {
          "base_uri": "https://localhost:8080/",
          "height": 206
        },
        "id": "RKTjiNgSJzs2",
        "outputId": "5f3e6f70-2d93-4075-c22b-4d39de7d1657"
      },
      "execution_count": 14,
      "outputs": [
        {
          "output_type": "execute_result",
          "data": {
            "text/plain": [
              "        Date        Open        High         Low       Close   Adj Close  \\\n",
              "0 2018-02-05  262.000000  267.899994  250.029999  254.259995  254.259995   \n",
              "1 2018-02-06  247.699997  266.700012  245.000000  265.720001  265.720001   \n",
              "2 2018-02-07  266.579987  272.450012  264.329987  264.559998  264.559998   \n",
              "3 2018-02-08  267.079987  267.619995  250.000000  250.100006  250.100006   \n",
              "4 2018-02-09  253.850006  255.800003  236.110001  249.470001  249.470001   \n",
              "\n",
              "       Volume  \n",
              "0  11896100.0  \n",
              "1  12595800.0  \n",
              "2   8981500.0  \n",
              "3   9306700.0  \n",
              "4  16906900.0  "
            ],
            "text/html": [
              "\n",
              "  <div id=\"df-9933d79c-f03a-4b87-8959-3cc3158b69e5\">\n",
              "    <div class=\"colab-df-container\">\n",
              "      <div>\n",
              "<style scoped>\n",
              "    .dataframe tbody tr th:only-of-type {\n",
              "        vertical-align: middle;\n",
              "    }\n",
              "\n",
              "    .dataframe tbody tr th {\n",
              "        vertical-align: top;\n",
              "    }\n",
              "\n",
              "    .dataframe thead th {\n",
              "        text-align: right;\n",
              "    }\n",
              "</style>\n",
              "<table border=\"1\" class=\"dataframe\">\n",
              "  <thead>\n",
              "    <tr style=\"text-align: right;\">\n",
              "      <th></th>\n",
              "      <th>Date</th>\n",
              "      <th>Open</th>\n",
              "      <th>High</th>\n",
              "      <th>Low</th>\n",
              "      <th>Close</th>\n",
              "      <th>Adj Close</th>\n",
              "      <th>Volume</th>\n",
              "    </tr>\n",
              "  </thead>\n",
              "  <tbody>\n",
              "    <tr>\n",
              "      <th>0</th>\n",
              "      <td>2018-02-05</td>\n",
              "      <td>262.000000</td>\n",
              "      <td>267.899994</td>\n",
              "      <td>250.029999</td>\n",
              "      <td>254.259995</td>\n",
              "      <td>254.259995</td>\n",
              "      <td>11896100.0</td>\n",
              "    </tr>\n",
              "    <tr>\n",
              "      <th>1</th>\n",
              "      <td>2018-02-06</td>\n",
              "      <td>247.699997</td>\n",
              "      <td>266.700012</td>\n",
              "      <td>245.000000</td>\n",
              "      <td>265.720001</td>\n",
              "      <td>265.720001</td>\n",
              "      <td>12595800.0</td>\n",
              "    </tr>\n",
              "    <tr>\n",
              "      <th>2</th>\n",
              "      <td>2018-02-07</td>\n",
              "      <td>266.579987</td>\n",
              "      <td>272.450012</td>\n",
              "      <td>264.329987</td>\n",
              "      <td>264.559998</td>\n",
              "      <td>264.559998</td>\n",
              "      <td>8981500.0</td>\n",
              "    </tr>\n",
              "    <tr>\n",
              "      <th>3</th>\n",
              "      <td>2018-02-08</td>\n",
              "      <td>267.079987</td>\n",
              "      <td>267.619995</td>\n",
              "      <td>250.000000</td>\n",
              "      <td>250.100006</td>\n",
              "      <td>250.100006</td>\n",
              "      <td>9306700.0</td>\n",
              "    </tr>\n",
              "    <tr>\n",
              "      <th>4</th>\n",
              "      <td>2018-02-09</td>\n",
              "      <td>253.850006</td>\n",
              "      <td>255.800003</td>\n",
              "      <td>236.110001</td>\n",
              "      <td>249.470001</td>\n",
              "      <td>249.470001</td>\n",
              "      <td>16906900.0</td>\n",
              "    </tr>\n",
              "  </tbody>\n",
              "</table>\n",
              "</div>\n",
              "      <button class=\"colab-df-convert\" onclick=\"convertToInteractive('df-9933d79c-f03a-4b87-8959-3cc3158b69e5')\"\n",
              "              title=\"Convert this dataframe to an interactive table.\"\n",
              "              style=\"display:none;\">\n",
              "        \n",
              "  <svg xmlns=\"http://www.w3.org/2000/svg\" height=\"24px\"viewBox=\"0 0 24 24\"\n",
              "       width=\"24px\">\n",
              "    <path d=\"M0 0h24v24H0V0z\" fill=\"none\"/>\n",
              "    <path d=\"M18.56 5.44l.94 2.06.94-2.06 2.06-.94-2.06-.94-.94-2.06-.94 2.06-2.06.94zm-11 1L8.5 8.5l.94-2.06 2.06-.94-2.06-.94L8.5 2.5l-.94 2.06-2.06.94zm10 10l.94 2.06.94-2.06 2.06-.94-2.06-.94-.94-2.06-.94 2.06-2.06.94z\"/><path d=\"M17.41 7.96l-1.37-1.37c-.4-.4-.92-.59-1.43-.59-.52 0-1.04.2-1.43.59L10.3 9.45l-7.72 7.72c-.78.78-.78 2.05 0 2.83L4 21.41c.39.39.9.59 1.41.59.51 0 1.02-.2 1.41-.59l7.78-7.78 2.81-2.81c.8-.78.8-2.07 0-2.86zM5.41 20L4 18.59l7.72-7.72 1.47 1.35L5.41 20z\"/>\n",
              "  </svg>\n",
              "      </button>\n",
              "      \n",
              "  <style>\n",
              "    .colab-df-container {\n",
              "      display:flex;\n",
              "      flex-wrap:wrap;\n",
              "      gap: 12px;\n",
              "    }\n",
              "\n",
              "    .colab-df-convert {\n",
              "      background-color: #E8F0FE;\n",
              "      border: none;\n",
              "      border-radius: 50%;\n",
              "      cursor: pointer;\n",
              "      display: none;\n",
              "      fill: #1967D2;\n",
              "      height: 32px;\n",
              "      padding: 0 0 0 0;\n",
              "      width: 32px;\n",
              "    }\n",
              "\n",
              "    .colab-df-convert:hover {\n",
              "      background-color: #E2EBFA;\n",
              "      box-shadow: 0px 1px 2px rgba(60, 64, 67, 0.3), 0px 1px 3px 1px rgba(60, 64, 67, 0.15);\n",
              "      fill: #174EA6;\n",
              "    }\n",
              "\n",
              "    [theme=dark] .colab-df-convert {\n",
              "      background-color: #3B4455;\n",
              "      fill: #D2E3FC;\n",
              "    }\n",
              "\n",
              "    [theme=dark] .colab-df-convert:hover {\n",
              "      background-color: #434B5C;\n",
              "      box-shadow: 0px 1px 3px 1px rgba(0, 0, 0, 0.15);\n",
              "      filter: drop-shadow(0px 1px 2px rgba(0, 0, 0, 0.3));\n",
              "      fill: #FFFFFF;\n",
              "    }\n",
              "  </style>\n",
              "\n",
              "      <script>\n",
              "        const buttonEl =\n",
              "          document.querySelector('#df-9933d79c-f03a-4b87-8959-3cc3158b69e5 button.colab-df-convert');\n",
              "        buttonEl.style.display =\n",
              "          google.colab.kernel.accessAllowed ? 'block' : 'none';\n",
              "\n",
              "        async function convertToInteractive(key) {\n",
              "          const element = document.querySelector('#df-9933d79c-f03a-4b87-8959-3cc3158b69e5');\n",
              "          const dataTable =\n",
              "            await google.colab.kernel.invokeFunction('convertToInteractive',\n",
              "                                                     [key], {});\n",
              "          if (!dataTable) return;\n",
              "\n",
              "          const docLinkHtml = 'Like what you see? Visit the ' +\n",
              "            '<a target=\"_blank\" href=https://colab.research.google.com/notebooks/data_table.ipynb>data table notebook</a>'\n",
              "            + ' to learn more about interactive tables.';\n",
              "          element.innerHTML = '';\n",
              "          dataTable['output_type'] = 'display_data';\n",
              "          await google.colab.output.renderOutput(dataTable, element);\n",
              "          const docLink = document.createElement('div');\n",
              "          docLink.innerHTML = docLinkHtml;\n",
              "          element.appendChild(docLink);\n",
              "        }\n",
              "      </script>\n",
              "    </div>\n",
              "  </div>\n",
              "  "
            ]
          },
          "metadata": {},
          "execution_count": 14
        }
      ]
    },
    {
      "cell_type": "code",
      "source": [
        "df.shape"
      ],
      "metadata": {
        "colab": {
          "base_uri": "https://localhost:8080/"
        },
        "id": "emFhbJrtKFz5",
        "outputId": "59132653-f1e9-4487-9116-1fbb941db3c3"
      },
      "execution_count": 15,
      "outputs": [
        {
          "output_type": "execute_result",
          "data": {
            "text/plain": [
              "(1009, 7)"
            ]
          },
          "metadata": {},
          "execution_count": 15
        }
      ]
    },
    {
      "cell_type": "code",
      "source": [
        "df.columns"
      ],
      "metadata": {
        "colab": {
          "base_uri": "https://localhost:8080/"
        },
        "id": "i8TV-wj_KUIK",
        "outputId": "75cf0939-259f-492f-9cea-afa6e715cd48"
      },
      "execution_count": 16,
      "outputs": [
        {
          "output_type": "execute_result",
          "data": {
            "text/plain": [
              "Index(['Date', 'Open', 'High', 'Low', 'Close', 'Adj Close', 'Volume'], dtype='object')"
            ]
          },
          "metadata": {},
          "execution_count": 16
        }
      ]
    },
    {
      "cell_type": "code",
      "source": [
        "df.info()"
      ],
      "metadata": {
        "colab": {
          "base_uri": "https://localhost:8080/"
        },
        "id": "M85qAvjIKWJm",
        "outputId": "c4b0e78c-8afe-47e9-e89e-55fb6fe2b56a"
      },
      "execution_count": 17,
      "outputs": [
        {
          "output_type": "stream",
          "name": "stdout",
          "text": [
            "<class 'pandas.core.frame.DataFrame'>\n",
            "RangeIndex: 1009 entries, 0 to 1008\n",
            "Data columns (total 7 columns):\n",
            " #   Column     Non-Null Count  Dtype         \n",
            "---  ------     --------------  -----         \n",
            " 0   Date       1009 non-null   datetime64[ns]\n",
            " 1   Open       1009 non-null   float64       \n",
            " 2   High       1009 non-null   float64       \n",
            " 3   Low        1009 non-null   float64       \n",
            " 4   Close      1009 non-null   float64       \n",
            " 5   Adj Close  1009 non-null   float64       \n",
            " 6   Volume     1009 non-null   float64       \n",
            "dtypes: datetime64[ns](1), float64(6)\n",
            "memory usage: 55.3 KB\n"
          ]
        }
      ]
    },
    {
      "cell_type": "code",
      "source": [
        "print(df.Date.max())\n",
        "print(df.Date.min())"
      ],
      "metadata": {
        "colab": {
          "base_uri": "https://localhost:8080/"
        },
        "id": "tvBInDeDKYm3",
        "outputId": "c59eecf7-e41d-4e7c-f3af-f66657e22373"
      },
      "execution_count": 18,
      "outputs": [
        {
          "output_type": "stream",
          "name": "stdout",
          "text": [
            "2022-02-04 00:00:00\n",
            "2018-02-05 00:00:00\n"
          ]
        }
      ]
    },
    {
      "cell_type": "code",
      "source": [
        "df.drop('Adj Close',axis =1,inplace = True)"
      ],
      "metadata": {
        "id": "eCo3Xq1qkMyG"
      },
      "execution_count": 19,
      "outputs": []
    },
    {
      "cell_type": "code",
      "source": [
        "df.head()"
      ],
      "metadata": {
        "colab": {
          "base_uri": "https://localhost:8080/",
          "height": 206
        },
        "id": "l5XFThP2kXh-",
        "outputId": "b00698a5-f318-42ef-a28b-faa732bc42d0"
      },
      "execution_count": 20,
      "outputs": [
        {
          "output_type": "execute_result",
          "data": {
            "text/plain": [
              "        Date        Open        High         Low       Close      Volume\n",
              "0 2018-02-05  262.000000  267.899994  250.029999  254.259995  11896100.0\n",
              "1 2018-02-06  247.699997  266.700012  245.000000  265.720001  12595800.0\n",
              "2 2018-02-07  266.579987  272.450012  264.329987  264.559998   8981500.0\n",
              "3 2018-02-08  267.079987  267.619995  250.000000  250.100006   9306700.0\n",
              "4 2018-02-09  253.850006  255.800003  236.110001  249.470001  16906900.0"
            ],
            "text/html": [
              "\n",
              "  <div id=\"df-f9c027c6-9dbf-46a7-bf13-0ac514529f0c\">\n",
              "    <div class=\"colab-df-container\">\n",
              "      <div>\n",
              "<style scoped>\n",
              "    .dataframe tbody tr th:only-of-type {\n",
              "        vertical-align: middle;\n",
              "    }\n",
              "\n",
              "    .dataframe tbody tr th {\n",
              "        vertical-align: top;\n",
              "    }\n",
              "\n",
              "    .dataframe thead th {\n",
              "        text-align: right;\n",
              "    }\n",
              "</style>\n",
              "<table border=\"1\" class=\"dataframe\">\n",
              "  <thead>\n",
              "    <tr style=\"text-align: right;\">\n",
              "      <th></th>\n",
              "      <th>Date</th>\n",
              "      <th>Open</th>\n",
              "      <th>High</th>\n",
              "      <th>Low</th>\n",
              "      <th>Close</th>\n",
              "      <th>Volume</th>\n",
              "    </tr>\n",
              "  </thead>\n",
              "  <tbody>\n",
              "    <tr>\n",
              "      <th>0</th>\n",
              "      <td>2018-02-05</td>\n",
              "      <td>262.000000</td>\n",
              "      <td>267.899994</td>\n",
              "      <td>250.029999</td>\n",
              "      <td>254.259995</td>\n",
              "      <td>11896100.0</td>\n",
              "    </tr>\n",
              "    <tr>\n",
              "      <th>1</th>\n",
              "      <td>2018-02-06</td>\n",
              "      <td>247.699997</td>\n",
              "      <td>266.700012</td>\n",
              "      <td>245.000000</td>\n",
              "      <td>265.720001</td>\n",
              "      <td>12595800.0</td>\n",
              "    </tr>\n",
              "    <tr>\n",
              "      <th>2</th>\n",
              "      <td>2018-02-07</td>\n",
              "      <td>266.579987</td>\n",
              "      <td>272.450012</td>\n",
              "      <td>264.329987</td>\n",
              "      <td>264.559998</td>\n",
              "      <td>8981500.0</td>\n",
              "    </tr>\n",
              "    <tr>\n",
              "      <th>3</th>\n",
              "      <td>2018-02-08</td>\n",
              "      <td>267.079987</td>\n",
              "      <td>267.619995</td>\n",
              "      <td>250.000000</td>\n",
              "      <td>250.100006</td>\n",
              "      <td>9306700.0</td>\n",
              "    </tr>\n",
              "    <tr>\n",
              "      <th>4</th>\n",
              "      <td>2018-02-09</td>\n",
              "      <td>253.850006</td>\n",
              "      <td>255.800003</td>\n",
              "      <td>236.110001</td>\n",
              "      <td>249.470001</td>\n",
              "      <td>16906900.0</td>\n",
              "    </tr>\n",
              "  </tbody>\n",
              "</table>\n",
              "</div>\n",
              "      <button class=\"colab-df-convert\" onclick=\"convertToInteractive('df-f9c027c6-9dbf-46a7-bf13-0ac514529f0c')\"\n",
              "              title=\"Convert this dataframe to an interactive table.\"\n",
              "              style=\"display:none;\">\n",
              "        \n",
              "  <svg xmlns=\"http://www.w3.org/2000/svg\" height=\"24px\"viewBox=\"0 0 24 24\"\n",
              "       width=\"24px\">\n",
              "    <path d=\"M0 0h24v24H0V0z\" fill=\"none\"/>\n",
              "    <path d=\"M18.56 5.44l.94 2.06.94-2.06 2.06-.94-2.06-.94-.94-2.06-.94 2.06-2.06.94zm-11 1L8.5 8.5l.94-2.06 2.06-.94-2.06-.94L8.5 2.5l-.94 2.06-2.06.94zm10 10l.94 2.06.94-2.06 2.06-.94-2.06-.94-.94-2.06-.94 2.06-2.06.94z\"/><path d=\"M17.41 7.96l-1.37-1.37c-.4-.4-.92-.59-1.43-.59-.52 0-1.04.2-1.43.59L10.3 9.45l-7.72 7.72c-.78.78-.78 2.05 0 2.83L4 21.41c.39.39.9.59 1.41.59.51 0 1.02-.2 1.41-.59l7.78-7.78 2.81-2.81c.8-.78.8-2.07 0-2.86zM5.41 20L4 18.59l7.72-7.72 1.47 1.35L5.41 20z\"/>\n",
              "  </svg>\n",
              "      </button>\n",
              "      \n",
              "  <style>\n",
              "    .colab-df-container {\n",
              "      display:flex;\n",
              "      flex-wrap:wrap;\n",
              "      gap: 12px;\n",
              "    }\n",
              "\n",
              "    .colab-df-convert {\n",
              "      background-color: #E8F0FE;\n",
              "      border: none;\n",
              "      border-radius: 50%;\n",
              "      cursor: pointer;\n",
              "      display: none;\n",
              "      fill: #1967D2;\n",
              "      height: 32px;\n",
              "      padding: 0 0 0 0;\n",
              "      width: 32px;\n",
              "    }\n",
              "\n",
              "    .colab-df-convert:hover {\n",
              "      background-color: #E2EBFA;\n",
              "      box-shadow: 0px 1px 2px rgba(60, 64, 67, 0.3), 0px 1px 3px 1px rgba(60, 64, 67, 0.15);\n",
              "      fill: #174EA6;\n",
              "    }\n",
              "\n",
              "    [theme=dark] .colab-df-convert {\n",
              "      background-color: #3B4455;\n",
              "      fill: #D2E3FC;\n",
              "    }\n",
              "\n",
              "    [theme=dark] .colab-df-convert:hover {\n",
              "      background-color: #434B5C;\n",
              "      box-shadow: 0px 1px 3px 1px rgba(0, 0, 0, 0.15);\n",
              "      filter: drop-shadow(0px 1px 2px rgba(0, 0, 0, 0.3));\n",
              "      fill: #FFFFFF;\n",
              "    }\n",
              "  </style>\n",
              "\n",
              "      <script>\n",
              "        const buttonEl =\n",
              "          document.querySelector('#df-f9c027c6-9dbf-46a7-bf13-0ac514529f0c button.colab-df-convert');\n",
              "        buttonEl.style.display =\n",
              "          google.colab.kernel.accessAllowed ? 'block' : 'none';\n",
              "\n",
              "        async function convertToInteractive(key) {\n",
              "          const element = document.querySelector('#df-f9c027c6-9dbf-46a7-bf13-0ac514529f0c');\n",
              "          const dataTable =\n",
              "            await google.colab.kernel.invokeFunction('convertToInteractive',\n",
              "                                                     [key], {});\n",
              "          if (!dataTable) return;\n",
              "\n",
              "          const docLinkHtml = 'Like what you see? Visit the ' +\n",
              "            '<a target=\"_blank\" href=https://colab.research.google.com/notebooks/data_table.ipynb>data table notebook</a>'\n",
              "            + ' to learn more about interactive tables.';\n",
              "          element.innerHTML = '';\n",
              "          dataTable['output_type'] = 'display_data';\n",
              "          await google.colab.output.renderOutput(dataTable, element);\n",
              "          const docLink = document.createElement('div');\n",
              "          docLink.innerHTML = docLinkHtml;\n",
              "          element.appendChild(docLink);\n",
              "        }\n",
              "      </script>\n",
              "    </div>\n",
              "  </div>\n",
              "  "
            ]
          },
          "metadata": {},
          "execution_count": 20
        }
      ]
    },
    {
      "cell_type": "code",
      "source": [
        "df['Date'] = df['Date'].astype(str)"
      ],
      "metadata": {
        "id": "8qISglE_kc5G"
      },
      "execution_count": 21,
      "outputs": []
    },
    {
      "cell_type": "code",
      "source": [
        "df.describe()"
      ],
      "metadata": {
        "colab": {
          "base_uri": "https://localhost:8080/",
          "height": 300
        },
        "id": "xEvL3v2BKbqr",
        "outputId": "1548049f-b1d8-4618-e4b8-539b357d9ce5"
      },
      "execution_count": 22,
      "outputs": [
        {
          "output_type": "execute_result",
          "data": {
            "text/plain": [
              "              Open         High          Low        Close        Volume\n",
              "count  1009.000000  1009.000000  1009.000000  1009.000000  1.009000e+03\n",
              "mean    419.059673   425.320703   412.374044   419.000733  7.570685e+06\n",
              "std     108.537532   109.262960   107.555867   108.289999  5.465535e+06\n",
              "min     233.919998   250.649994   231.229996   233.880005  1.144000e+06\n",
              "25%     331.489990   336.299988   326.000000   331.619995  4.091900e+06\n",
              "50%     377.769989   383.010010   370.880005   378.670013  5.934500e+06\n",
              "75%     509.130005   515.630005   502.529999   509.079987  9.322400e+06\n",
              "max     692.349976   700.989990   686.090027   691.690002  5.890430e+07"
            ],
            "text/html": [
              "\n",
              "  <div id=\"df-19ed0644-f777-4f0a-8395-79d556f64994\">\n",
              "    <div class=\"colab-df-container\">\n",
              "      <div>\n",
              "<style scoped>\n",
              "    .dataframe tbody tr th:only-of-type {\n",
              "        vertical-align: middle;\n",
              "    }\n",
              "\n",
              "    .dataframe tbody tr th {\n",
              "        vertical-align: top;\n",
              "    }\n",
              "\n",
              "    .dataframe thead th {\n",
              "        text-align: right;\n",
              "    }\n",
              "</style>\n",
              "<table border=\"1\" class=\"dataframe\">\n",
              "  <thead>\n",
              "    <tr style=\"text-align: right;\">\n",
              "      <th></th>\n",
              "      <th>Open</th>\n",
              "      <th>High</th>\n",
              "      <th>Low</th>\n",
              "      <th>Close</th>\n",
              "      <th>Volume</th>\n",
              "    </tr>\n",
              "  </thead>\n",
              "  <tbody>\n",
              "    <tr>\n",
              "      <th>count</th>\n",
              "      <td>1009.000000</td>\n",
              "      <td>1009.000000</td>\n",
              "      <td>1009.000000</td>\n",
              "      <td>1009.000000</td>\n",
              "      <td>1.009000e+03</td>\n",
              "    </tr>\n",
              "    <tr>\n",
              "      <th>mean</th>\n",
              "      <td>419.059673</td>\n",
              "      <td>425.320703</td>\n",
              "      <td>412.374044</td>\n",
              "      <td>419.000733</td>\n",
              "      <td>7.570685e+06</td>\n",
              "    </tr>\n",
              "    <tr>\n",
              "      <th>std</th>\n",
              "      <td>108.537532</td>\n",
              "      <td>109.262960</td>\n",
              "      <td>107.555867</td>\n",
              "      <td>108.289999</td>\n",
              "      <td>5.465535e+06</td>\n",
              "    </tr>\n",
              "    <tr>\n",
              "      <th>min</th>\n",
              "      <td>233.919998</td>\n",
              "      <td>250.649994</td>\n",
              "      <td>231.229996</td>\n",
              "      <td>233.880005</td>\n",
              "      <td>1.144000e+06</td>\n",
              "    </tr>\n",
              "    <tr>\n",
              "      <th>25%</th>\n",
              "      <td>331.489990</td>\n",
              "      <td>336.299988</td>\n",
              "      <td>326.000000</td>\n",
              "      <td>331.619995</td>\n",
              "      <td>4.091900e+06</td>\n",
              "    </tr>\n",
              "    <tr>\n",
              "      <th>50%</th>\n",
              "      <td>377.769989</td>\n",
              "      <td>383.010010</td>\n",
              "      <td>370.880005</td>\n",
              "      <td>378.670013</td>\n",
              "      <td>5.934500e+06</td>\n",
              "    </tr>\n",
              "    <tr>\n",
              "      <th>75%</th>\n",
              "      <td>509.130005</td>\n",
              "      <td>515.630005</td>\n",
              "      <td>502.529999</td>\n",
              "      <td>509.079987</td>\n",
              "      <td>9.322400e+06</td>\n",
              "    </tr>\n",
              "    <tr>\n",
              "      <th>max</th>\n",
              "      <td>692.349976</td>\n",
              "      <td>700.989990</td>\n",
              "      <td>686.090027</td>\n",
              "      <td>691.690002</td>\n",
              "      <td>5.890430e+07</td>\n",
              "    </tr>\n",
              "  </tbody>\n",
              "</table>\n",
              "</div>\n",
              "      <button class=\"colab-df-convert\" onclick=\"convertToInteractive('df-19ed0644-f777-4f0a-8395-79d556f64994')\"\n",
              "              title=\"Convert this dataframe to an interactive table.\"\n",
              "              style=\"display:none;\">\n",
              "        \n",
              "  <svg xmlns=\"http://www.w3.org/2000/svg\" height=\"24px\"viewBox=\"0 0 24 24\"\n",
              "       width=\"24px\">\n",
              "    <path d=\"M0 0h24v24H0V0z\" fill=\"none\"/>\n",
              "    <path d=\"M18.56 5.44l.94 2.06.94-2.06 2.06-.94-2.06-.94-.94-2.06-.94 2.06-2.06.94zm-11 1L8.5 8.5l.94-2.06 2.06-.94-2.06-.94L8.5 2.5l-.94 2.06-2.06.94zm10 10l.94 2.06.94-2.06 2.06-.94-2.06-.94-.94-2.06-.94 2.06-2.06.94z\"/><path d=\"M17.41 7.96l-1.37-1.37c-.4-.4-.92-.59-1.43-.59-.52 0-1.04.2-1.43.59L10.3 9.45l-7.72 7.72c-.78.78-.78 2.05 0 2.83L4 21.41c.39.39.9.59 1.41.59.51 0 1.02-.2 1.41-.59l7.78-7.78 2.81-2.81c.8-.78.8-2.07 0-2.86zM5.41 20L4 18.59l7.72-7.72 1.47 1.35L5.41 20z\"/>\n",
              "  </svg>\n",
              "      </button>\n",
              "      \n",
              "  <style>\n",
              "    .colab-df-container {\n",
              "      display:flex;\n",
              "      flex-wrap:wrap;\n",
              "      gap: 12px;\n",
              "    }\n",
              "\n",
              "    .colab-df-convert {\n",
              "      background-color: #E8F0FE;\n",
              "      border: none;\n",
              "      border-radius: 50%;\n",
              "      cursor: pointer;\n",
              "      display: none;\n",
              "      fill: #1967D2;\n",
              "      height: 32px;\n",
              "      padding: 0 0 0 0;\n",
              "      width: 32px;\n",
              "    }\n",
              "\n",
              "    .colab-df-convert:hover {\n",
              "      background-color: #E2EBFA;\n",
              "      box-shadow: 0px 1px 2px rgba(60, 64, 67, 0.3), 0px 1px 3px 1px rgba(60, 64, 67, 0.15);\n",
              "      fill: #174EA6;\n",
              "    }\n",
              "\n",
              "    [theme=dark] .colab-df-convert {\n",
              "      background-color: #3B4455;\n",
              "      fill: #D2E3FC;\n",
              "    }\n",
              "\n",
              "    [theme=dark] .colab-df-convert:hover {\n",
              "      background-color: #434B5C;\n",
              "      box-shadow: 0px 1px 3px 1px rgba(0, 0, 0, 0.15);\n",
              "      filter: drop-shadow(0px 1px 2px rgba(0, 0, 0, 0.3));\n",
              "      fill: #FFFFFF;\n",
              "    }\n",
              "  </style>\n",
              "\n",
              "      <script>\n",
              "        const buttonEl =\n",
              "          document.querySelector('#df-19ed0644-f777-4f0a-8395-79d556f64994 button.colab-df-convert');\n",
              "        buttonEl.style.display =\n",
              "          google.colab.kernel.accessAllowed ? 'block' : 'none';\n",
              "\n",
              "        async function convertToInteractive(key) {\n",
              "          const element = document.querySelector('#df-19ed0644-f777-4f0a-8395-79d556f64994');\n",
              "          const dataTable =\n",
              "            await google.colab.kernel.invokeFunction('convertToInteractive',\n",
              "                                                     [key], {});\n",
              "          if (!dataTable) return;\n",
              "\n",
              "          const docLinkHtml = 'Like what you see? Visit the ' +\n",
              "            '<a target=\"_blank\" href=https://colab.research.google.com/notebooks/data_table.ipynb>data table notebook</a>'\n",
              "            + ' to learn more about interactive tables.';\n",
              "          element.innerHTML = '';\n",
              "          dataTable['output_type'] = 'display_data';\n",
              "          await google.colab.output.renderOutput(dataTable, element);\n",
              "          const docLink = document.createElement('div');\n",
              "          docLink.innerHTML = docLinkHtml;\n",
              "          element.appendChild(docLink);\n",
              "        }\n",
              "      </script>\n",
              "    </div>\n",
              "  </div>\n",
              "  "
            ]
          },
          "metadata": {},
          "execution_count": 22
        }
      ]
    },
    {
      "cell_type": "code",
      "source": [
        "df.isna().any() #checking NAN Values"
      ],
      "metadata": {
        "colab": {
          "base_uri": "https://localhost:8080/"
        },
        "id": "VrIGFn2oKeEC",
        "outputId": "c313cf3b-1b24-425b-a139-8c5728207734"
      },
      "execution_count": 23,
      "outputs": [
        {
          "output_type": "execute_result",
          "data": {
            "text/plain": [
              "Date      False\n",
              "Open      False\n",
              "High      False\n",
              "Low       False\n",
              "Close     False\n",
              "Volume    False\n",
              "dtype: bool"
            ]
          },
          "metadata": {},
          "execution_count": 23
        }
      ]
    },
    {
      "cell_type": "code",
      "source": [
        "df.duplicated().sum() #checking DUPLICATE values"
      ],
      "metadata": {
        "colab": {
          "base_uri": "https://localhost:8080/"
        },
        "id": "6QizdG9yKyOg",
        "outputId": "2762d3af-840d-447c-f6a3-5d6197abe374"
      },
      "execution_count": 24,
      "outputs": [
        {
          "output_type": "execute_result",
          "data": {
            "text/plain": [
              "0"
            ]
          },
          "metadata": {},
          "execution_count": 24
        }
      ]
    },
    {
      "cell_type": "markdown",
      "source": [],
      "metadata": {
        "id": "_ObQvzATMwOc"
      }
    },
    {
      "cell_type": "code",
      "source": [
        "gstock_data = df[['Date','Open','Close']]\n",
        "gstock_data ['Date'] = pd.to_datetime(gstock_data ['Date'].apply(lambda x: x.split()[0])) \n",
        "gstock_data .set_index('Date',drop=True,inplace=True) \n",
        "gstock_data .head()"
      ],
      "metadata": {
        "colab": {
          "base_uri": "https://localhost:8080/",
          "height": 348
        },
        "id": "a_B8AlKoK1E1",
        "outputId": "89c7e5eb-d24e-4f56-e36c-b304b8d0c75b"
      },
      "execution_count": 25,
      "outputs": [
        {
          "output_type": "stream",
          "name": "stderr",
          "text": [
            "/usr/local/lib/python3.7/dist-packages/ipykernel_launcher.py:2: SettingWithCopyWarning: \n",
            "A value is trying to be set on a copy of a slice from a DataFrame.\n",
            "Try using .loc[row_indexer,col_indexer] = value instead\n",
            "\n",
            "See the caveats in the documentation: https://pandas.pydata.org/pandas-docs/stable/user_guide/indexing.html#returning-a-view-versus-a-copy\n",
            "  \n"
          ]
        },
        {
          "output_type": "execute_result",
          "data": {
            "text/plain": [
              "                  Open       Close\n",
              "Date                              \n",
              "2018-02-05  262.000000  254.259995\n",
              "2018-02-06  247.699997  265.720001\n",
              "2018-02-07  266.579987  264.559998\n",
              "2018-02-08  267.079987  250.100006\n",
              "2018-02-09  253.850006  249.470001"
            ],
            "text/html": [
              "\n",
              "  <div id=\"df-7811ba78-3dc8-4e9e-9614-95294dcc6502\">\n",
              "    <div class=\"colab-df-container\">\n",
              "      <div>\n",
              "<style scoped>\n",
              "    .dataframe tbody tr th:only-of-type {\n",
              "        vertical-align: middle;\n",
              "    }\n",
              "\n",
              "    .dataframe tbody tr th {\n",
              "        vertical-align: top;\n",
              "    }\n",
              "\n",
              "    .dataframe thead th {\n",
              "        text-align: right;\n",
              "    }\n",
              "</style>\n",
              "<table border=\"1\" class=\"dataframe\">\n",
              "  <thead>\n",
              "    <tr style=\"text-align: right;\">\n",
              "      <th></th>\n",
              "      <th>Open</th>\n",
              "      <th>Close</th>\n",
              "    </tr>\n",
              "    <tr>\n",
              "      <th>Date</th>\n",
              "      <th></th>\n",
              "      <th></th>\n",
              "    </tr>\n",
              "  </thead>\n",
              "  <tbody>\n",
              "    <tr>\n",
              "      <th>2018-02-05</th>\n",
              "      <td>262.000000</td>\n",
              "      <td>254.259995</td>\n",
              "    </tr>\n",
              "    <tr>\n",
              "      <th>2018-02-06</th>\n",
              "      <td>247.699997</td>\n",
              "      <td>265.720001</td>\n",
              "    </tr>\n",
              "    <tr>\n",
              "      <th>2018-02-07</th>\n",
              "      <td>266.579987</td>\n",
              "      <td>264.559998</td>\n",
              "    </tr>\n",
              "    <tr>\n",
              "      <th>2018-02-08</th>\n",
              "      <td>267.079987</td>\n",
              "      <td>250.100006</td>\n",
              "    </tr>\n",
              "    <tr>\n",
              "      <th>2018-02-09</th>\n",
              "      <td>253.850006</td>\n",
              "      <td>249.470001</td>\n",
              "    </tr>\n",
              "  </tbody>\n",
              "</table>\n",
              "</div>\n",
              "      <button class=\"colab-df-convert\" onclick=\"convertToInteractive('df-7811ba78-3dc8-4e9e-9614-95294dcc6502')\"\n",
              "              title=\"Convert this dataframe to an interactive table.\"\n",
              "              style=\"display:none;\">\n",
              "        \n",
              "  <svg xmlns=\"http://www.w3.org/2000/svg\" height=\"24px\"viewBox=\"0 0 24 24\"\n",
              "       width=\"24px\">\n",
              "    <path d=\"M0 0h24v24H0V0z\" fill=\"none\"/>\n",
              "    <path d=\"M18.56 5.44l.94 2.06.94-2.06 2.06-.94-2.06-.94-.94-2.06-.94 2.06-2.06.94zm-11 1L8.5 8.5l.94-2.06 2.06-.94-2.06-.94L8.5 2.5l-.94 2.06-2.06.94zm10 10l.94 2.06.94-2.06 2.06-.94-2.06-.94-.94-2.06-.94 2.06-2.06.94z\"/><path d=\"M17.41 7.96l-1.37-1.37c-.4-.4-.92-.59-1.43-.59-.52 0-1.04.2-1.43.59L10.3 9.45l-7.72 7.72c-.78.78-.78 2.05 0 2.83L4 21.41c.39.39.9.59 1.41.59.51 0 1.02-.2 1.41-.59l7.78-7.78 2.81-2.81c.8-.78.8-2.07 0-2.86zM5.41 20L4 18.59l7.72-7.72 1.47 1.35L5.41 20z\"/>\n",
              "  </svg>\n",
              "      </button>\n",
              "      \n",
              "  <style>\n",
              "    .colab-df-container {\n",
              "      display:flex;\n",
              "      flex-wrap:wrap;\n",
              "      gap: 12px;\n",
              "    }\n",
              "\n",
              "    .colab-df-convert {\n",
              "      background-color: #E8F0FE;\n",
              "      border: none;\n",
              "      border-radius: 50%;\n",
              "      cursor: pointer;\n",
              "      display: none;\n",
              "      fill: #1967D2;\n",
              "      height: 32px;\n",
              "      padding: 0 0 0 0;\n",
              "      width: 32px;\n",
              "    }\n",
              "\n",
              "    .colab-df-convert:hover {\n",
              "      background-color: #E2EBFA;\n",
              "      box-shadow: 0px 1px 2px rgba(60, 64, 67, 0.3), 0px 1px 3px 1px rgba(60, 64, 67, 0.15);\n",
              "      fill: #174EA6;\n",
              "    }\n",
              "\n",
              "    [theme=dark] .colab-df-convert {\n",
              "      background-color: #3B4455;\n",
              "      fill: #D2E3FC;\n",
              "    }\n",
              "\n",
              "    [theme=dark] .colab-df-convert:hover {\n",
              "      background-color: #434B5C;\n",
              "      box-shadow: 0px 1px 3px 1px rgba(0, 0, 0, 0.15);\n",
              "      filter: drop-shadow(0px 1px 2px rgba(0, 0, 0, 0.3));\n",
              "      fill: #FFFFFF;\n",
              "    }\n",
              "  </style>\n",
              "\n",
              "      <script>\n",
              "        const buttonEl =\n",
              "          document.querySelector('#df-7811ba78-3dc8-4e9e-9614-95294dcc6502 button.colab-df-convert');\n",
              "        buttonEl.style.display =\n",
              "          google.colab.kernel.accessAllowed ? 'block' : 'none';\n",
              "\n",
              "        async function convertToInteractive(key) {\n",
              "          const element = document.querySelector('#df-7811ba78-3dc8-4e9e-9614-95294dcc6502');\n",
              "          const dataTable =\n",
              "            await google.colab.kernel.invokeFunction('convertToInteractive',\n",
              "                                                     [key], {});\n",
              "          if (!dataTable) return;\n",
              "\n",
              "          const docLinkHtml = 'Like what you see? Visit the ' +\n",
              "            '<a target=\"_blank\" href=https://colab.research.google.com/notebooks/data_table.ipynb>data table notebook</a>'\n",
              "            + ' to learn more about interactive tables.';\n",
              "          element.innerHTML = '';\n",
              "          dataTable['output_type'] = 'display_data';\n",
              "          await google.colab.output.renderOutput(dataTable, element);\n",
              "          const docLink = document.createElement('div');\n",
              "          docLink.innerHTML = docLinkHtml;\n",
              "          element.appendChild(docLink);\n",
              "        }\n",
              "      </script>\n",
              "    </div>\n",
              "  </div>\n",
              "  "
            ]
          },
          "metadata": {},
          "execution_count": 25
        }
      ]
    },
    {
      "cell_type": "code",
      "source": [
        "import matplotlib.pyplot as plt\n",
        "\n",
        "fg, ax =plt.subplots(1,2,figsize=(20,7))\n",
        "ax[0].plot(gstock_data ['Open'],label='Open',color='green')\n",
        "ax[0].set_xlabel('Date',size=15)\n",
        "ax[0].set_ylabel('Price',size=15)\n",
        "ax[0].legend()\n",
        "ax[1].plot(gstock_data ['Close'],label='Close',color='red')\n",
        "ax[1].set_xlabel('Date',size=15)\n",
        "ax[1].set_ylabel('Price',size=15)\n",
        "ax[1].legend()\n",
        "fg.show()"
      ],
      "metadata": {
        "colab": {
          "base_uri": "https://localhost:8080/",
          "height": 447
        },
        "id": "m-Zd9r01MtzJ",
        "outputId": "46955014-57da-4a1c-cd06-965a9e4bd09f"
      },
      "execution_count": 28,
      "outputs": [
        {
          "output_type": "display_data",
          "data": {
            "text/plain": [
              "<Figure size 1440x504 with 2 Axes>"
            ],
            "image/png": "[encoded data removed]"
          },
          "metadata": {
            "needs_background": "light"
          }
        }
      ]
    },
    {
      "cell_type": "code",
      "source": [
        "from sklearn.preprocessing import MinMaxScaler\n",
        "Ms = MinMaxScaler()\n",
        "gstock_data [gstock_data .columns] = Ms.fit_transform(gstock_data )"
      ],
      "metadata": {
        "colab": {
          "base_uri": "https://localhost:8080/"
        },
        "id": "caATAvuAkxE2",
        "outputId": "4c73cc38-4c65-4993-8c6e-3c265ab4bd2d"
      },
      "execution_count": 29,
      "outputs": [
        {
          "output_type": "stream",
          "name": "stderr",
          "text": [
            "/usr/local/lib/python3.7/dist-packages/pandas/core/frame.py:3678: SettingWithCopyWarning: \n",
            "A value is trying to be set on a copy of a slice from a DataFrame.\n",
            "Try using .loc[row_indexer,col_indexer] = value instead\n",
            "\n",
            "See the caveats in the documentation: https://pandas.pydata.org/pandas-docs/stable/user_guide/indexing.html#returning-a-view-versus-a-copy\n",
            "  self[col] = igetitem(value, i)\n"
          ]
        }
      ]
    },
    {
      "cell_type": "code",
      "source": [
        "training_size = round(len(gstock_data ) * 0.80)"
      ],
      "metadata": {
        "id": "gDDsKx3llBem"
      },
      "execution_count": 30,
      "outputs": []
    },
    {
      "cell_type": "code",
      "source": [
        "train_data = gstock_data [:training_size]\n",
        "test_data  = gstock_data [training_size:]"
      ],
      "metadata": {
        "id": "DuJ0cKdYlE2V"
      },
      "execution_count": 31,
      "outputs": []
    },
    {
      "cell_type": "code",
      "source": [
        "import numpy as np\n",
        "\n",
        "def create_sequence(dataset):\n",
        "  sequences = []\n",
        "  labels = []\n",
        "\n",
        "  start_idx = 0\n",
        "\n",
        "  for stop_idx in range(50,len(dataset)): \n",
        "    sequences.append(dataset.iloc[start_idx:stop_idx])\n",
        "    labels.append(dataset.iloc[stop_idx])\n",
        "    start_idx += 1\n",
        "  return (np.array(sequences),np.array(labels))"
      ],
      "metadata": {
        "id": "vUCon65slJt2"
      },
      "execution_count": 32,
      "outputs": []
    },
    {
      "cell_type": "code",
      "source": [
        "train_seq, train_label = create_sequence(train_data)\n",
        "test_seq, test_label = create_sequence(test_data)"
      ],
      "metadata": {
        "id": "8FJawBlGmCuv"
      },
      "execution_count": 33,
      "outputs": []
    },
    {
      "cell_type": "code",
      "source": [
        "from keras.models import Sequential\n",
        "from keras.layers import Dense, Dropout, LSTM, Bidirectional"
      ],
      "metadata": {
        "id": "_8ZtvfRamGN9"
      },
      "execution_count": 34,
      "outputs": []
    },
    {
      "cell_type": "code",
      "source": [
        "model = Sequential()\n",
        "model.add(LSTM(units=50, return_sequences=True, input_shape = (train_seq.shape[1], train_seq.shape[2])))\n",
        "\n",
        "model.add(Dropout(0.1)) \n",
        "model.add(LSTM(units=50))\n",
        "\n",
        "model.add(Dense(2))\n",
        "\n",
        "model.compile(loss='mean_squared_error', optimizer='adam', metrics=['mean_absolute_error'])\n"
      ],
      "metadata": {
        "id": "2ZCILnjMmPxm"
      },
      "execution_count": 36,
      "outputs": []
    },
    {
      "cell_type": "code",
      "source": [
        "model.summary()"
      ],
      "metadata": {
        "colab": {
          "base_uri": "https://localhost:8080/"
        },
        "id": "kmUcRBB4mbbF",
        "outputId": "092c9d3f-5dc4-4245-b078-783d908be974"
      },
      "execution_count": 37,
      "outputs": [
        {
          "output_type": "stream",
          "name": "stdout",
          "text": [
            "Model: \"sequential_1\"\n",
            "_________________________________________________________________\n",
            " Layer (type)                Output Shape              Param #   \n",
            "=================================================================\n",
            " lstm_2 (LSTM)               (None, 50, 50)            10600     \n",
            "                                                                 \n",
            " dropout_1 (Dropout)         (None, 50, 50)            0         \n",
            "                                                                 \n",
            " lstm_3 (LSTM)               (None, 50)                20200     \n",
            "                                                                 \n",
            " dense_1 (Dense)             (None, 2)                 102       \n",
            "                                                                 \n",
            "=================================================================\n",
            "Total params: 30,902\n",
            "Trainable params: 30,902\n",
            "Non-trainable params: 0\n",
            "_________________________________________________________________\n"
          ]
        }
      ]
    },
    {
      "cell_type": "code",
      "source": [
        "model.fit(train_seq, train_label, epochs=80,validation_data=(test_seq, test_label), verbose=1)"
      ],
      "metadata": {
        "colab": {
          "base_uri": "https://localhost:8080/"
        },
        "id": "BKNJQQUamiCF",
        "outputId": "ddd8ab4f-2158-41a9-ece6-6b12b04375c6"
      },
      "execution_count": 38,
      "outputs": [
        {
          "output_type": "stream",
          "name": "stdout",
          "text": [
            "Epoch 1/80\n",
            "24/24 [==============================] - 6s 86ms/step - loss: 0.0289 - mean_absolute_error: 0.1201 - val_loss: 0.0298 - val_mean_absolute_error: 0.1563\n",
            "Epoch 2/80\n",
            "24/24 [==============================] - 1s 47ms/step - loss: 0.0036 - mean_absolute_error: 0.0474 - val_loss: 0.0088 - val_mean_absolute_error: 0.0697\n",
            "Epoch 3/80\n",
            "24/24 [==============================] - 1s 47ms/step - loss: 0.0025 - mean_absolute_error: 0.0375 - val_loss: 0.0078 - val_mean_absolute_error: 0.0607\n",
            "Epoch 4/80\n",
            "24/24 [==============================] - 1s 47ms/step - loss: 0.0023 - mean_absolute_error: 0.0363 - val_loss: 0.0074 - val_mean_absolute_error: 0.0600\n",
            "Epoch 5/80\n",
            "24/24 [==============================] - 1s 47ms/step - loss: 0.0021 - mean_absolute_error: 0.0345 - val_loss: 0.0070 - val_mean_absolute_error: 0.0569\n",
            "Epoch 6/80\n",
            "24/24 [==============================] - 1s 46ms/step - loss: 0.0022 - mean_absolute_error: 0.0354 - val_loss: 0.0067 - val_mean_absolute_error: 0.0552\n",
            "Epoch 7/80\n",
            "24/24 [==============================] - 1s 46ms/step - loss: 0.0022 - mean_absolute_error: 0.0355 - val_loss: 0.0064 - val_mean_absolute_error: 0.0574\n",
            "Epoch 8/80\n",
            "24/24 [==============================] - 1s 46ms/step - loss: 0.0021 - mean_absolute_error: 0.0337 - val_loss: 0.0059 - val_mean_absolute_error: 0.0539\n",
            "Epoch 9/80\n",
            "24/24 [==============================] - 1s 46ms/step - loss: 0.0020 - mean_absolute_error: 0.0337 - val_loss: 0.0057 - val_mean_absolute_error: 0.0535\n",
            "Epoch 10/80\n",
            "24/24 [==============================] - 1s 46ms/step - loss: 0.0019 - mean_absolute_error: 0.0329 - val_loss: 0.0054 - val_mean_absolute_error: 0.0491\n",
            "Epoch 11/80\n",
            "24/24 [==============================] - 1s 47ms/step - loss: 0.0019 - mean_absolute_error: 0.0324 - val_loss: 0.0050 - val_mean_absolute_error: 0.0490\n",
            "Epoch 12/80\n",
            "24/24 [==============================] - 1s 47ms/step - loss: 0.0020 - mean_absolute_error: 0.0335 - val_loss: 0.0062 - val_mean_absolute_error: 0.0624\n",
            "Epoch 13/80\n",
            "24/24 [==============================] - 2s 82ms/step - loss: 0.0019 - mean_absolute_error: 0.0324 - val_loss: 0.0051 - val_mean_absolute_error: 0.0533\n",
            "Epoch 14/80\n",
            "24/24 [==============================] - 2s 68ms/step - loss: 0.0017 - mean_absolute_error: 0.0308 - val_loss: 0.0047 - val_mean_absolute_error: 0.0454\n",
            "Epoch 15/80\n",
            "24/24 [==============================] - 1s 46ms/step - loss: 0.0017 - mean_absolute_error: 0.0313 - val_loss: 0.0045 - val_mean_absolute_error: 0.0444\n",
            "Epoch 16/80\n",
            "24/24 [==============================] - 1s 46ms/step - loss: 0.0017 - mean_absolute_error: 0.0307 - val_loss: 0.0044 - val_mean_absolute_error: 0.0442\n",
            "Epoch 17/80\n",
            "24/24 [==============================] - 1s 46ms/step - loss: 0.0017 - mean_absolute_error: 0.0303 - val_loss: 0.0042 - val_mean_absolute_error: 0.0479\n",
            "Epoch 18/80\n",
            "24/24 [==============================] - 1s 46ms/step - loss: 0.0016 - mean_absolute_error: 0.0299 - val_loss: 0.0038 - val_mean_absolute_error: 0.0420\n",
            "Epoch 19/80\n",
            "24/24 [==============================] - 1s 47ms/step - loss: 0.0016 - mean_absolute_error: 0.0293 - val_loss: 0.0037 - val_mean_absolute_error: 0.0429\n",
            "Epoch 20/80\n",
            "24/24 [==============================] - 1s 47ms/step - loss: 0.0015 - mean_absolute_error: 0.0289 - val_loss: 0.0037 - val_mean_absolute_error: 0.0411\n",
            "Epoch 21/80\n",
            "24/24 [==============================] - 1s 46ms/step - loss: 0.0015 - mean_absolute_error: 0.0293 - val_loss: 0.0037 - val_mean_absolute_error: 0.0451\n",
            "Epoch 22/80\n",
            "24/24 [==============================] - 1s 45ms/step - loss: 0.0015 - mean_absolute_error: 0.0292 - val_loss: 0.0034 - val_mean_absolute_error: 0.0416\n",
            "Epoch 23/80\n",
            "24/24 [==============================] - 1s 47ms/step - loss: 0.0015 - mean_absolute_error: 0.0290 - val_loss: 0.0037 - val_mean_absolute_error: 0.0401\n",
            "Epoch 24/80\n",
            "24/24 [==============================] - 1s 46ms/step - loss: 0.0015 - mean_absolute_error: 0.0289 - val_loss: 0.0031 - val_mean_absolute_error: 0.0371\n",
            "Epoch 25/80\n",
            "24/24 [==============================] - 1s 46ms/step - loss: 0.0014 - mean_absolute_error: 0.0279 - val_loss: 0.0031 - val_mean_absolute_error: 0.0390\n",
            "Epoch 26/80\n",
            "24/24 [==============================] - 1s 46ms/step - loss: 0.0016 - mean_absolute_error: 0.0297 - val_loss: 0.0032 - val_mean_absolute_error: 0.0391\n",
            "Epoch 27/80\n",
            "24/24 [==============================] - 1s 46ms/step - loss: 0.0014 - mean_absolute_error: 0.0279 - val_loss: 0.0032 - val_mean_absolute_error: 0.0397\n",
            "Epoch 28/80\n",
            "24/24 [==============================] - 1s 46ms/step - loss: 0.0013 - mean_absolute_error: 0.0267 - val_loss: 0.0029 - val_mean_absolute_error: 0.0343\n",
            "Epoch 29/80\n",
            "24/24 [==============================] - 1s 46ms/step - loss: 0.0013 - mean_absolute_error: 0.0269 - val_loss: 0.0027 - val_mean_absolute_error: 0.0341\n",
            "Epoch 30/80\n",
            "24/24 [==============================] - 1s 49ms/step - loss: 0.0013 - mean_absolute_error: 0.0270 - val_loss: 0.0026 - val_mean_absolute_error: 0.0324\n",
            "Epoch 31/80\n",
            "24/24 [==============================] - 1s 47ms/step - loss: 0.0013 - mean_absolute_error: 0.0267 - val_loss: 0.0028 - val_mean_absolute_error: 0.0342\n",
            "Epoch 32/80\n",
            "24/24 [==============================] - 1s 47ms/step - loss: 0.0013 - mean_absolute_error: 0.0272 - val_loss: 0.0029 - val_mean_absolute_error: 0.0352\n",
            "Epoch 33/80\n",
            "24/24 [==============================] - 1s 47ms/step - loss: 0.0012 - mean_absolute_error: 0.0260 - val_loss: 0.0026 - val_mean_absolute_error: 0.0348\n",
            "Epoch 34/80\n",
            "24/24 [==============================] - 1s 47ms/step - loss: 0.0012 - mean_absolute_error: 0.0258 - val_loss: 0.0024 - val_mean_absolute_error: 0.0314\n",
            "Epoch 35/80\n",
            "24/24 [==============================] - 1s 46ms/step - loss: 0.0012 - mean_absolute_error: 0.0254 - val_loss: 0.0024 - val_mean_absolute_error: 0.0307\n",
            "Epoch 36/80\n",
            "24/24 [==============================] - 1s 47ms/step - loss: 0.0011 - mean_absolute_error: 0.0251 - val_loss: 0.0033 - val_mean_absolute_error: 0.0447\n",
            "Epoch 37/80\n",
            "24/24 [==============================] - 2s 80ms/step - loss: 0.0011 - mean_absolute_error: 0.0255 - val_loss: 0.0023 - val_mean_absolute_error: 0.0304\n",
            "Epoch 38/80\n",
            "24/24 [==============================] - 1s 48ms/step - loss: 0.0011 - mean_absolute_error: 0.0249 - val_loss: 0.0022 - val_mean_absolute_error: 0.0297\n",
            "Epoch 39/80\n",
            "24/24 [==============================] - 1s 49ms/step - loss: 0.0011 - mean_absolute_error: 0.0251 - val_loss: 0.0024 - val_mean_absolute_error: 0.0308\n",
            "Epoch 40/80\n",
            "24/24 [==============================] - 1s 47ms/step - loss: 0.0011 - mean_absolute_error: 0.0244 - val_loss: 0.0024 - val_mean_absolute_error: 0.0322\n",
            "Epoch 41/80\n",
            "24/24 [==============================] - 1s 47ms/step - loss: 0.0011 - mean_absolute_error: 0.0245 - val_loss: 0.0021 - val_mean_absolute_error: 0.0288\n",
            "Epoch 42/80\n",
            "24/24 [==============================] - 1s 47ms/step - loss: 0.0010 - mean_absolute_error: 0.0237 - val_loss: 0.0022 - val_mean_absolute_error: 0.0314\n",
            "Epoch 43/80\n",
            "24/24 [==============================] - 1s 47ms/step - loss: 9.5022e-04 - mean_absolute_error: 0.0229 - val_loss: 0.0026 - val_mean_absolute_error: 0.0369\n",
            "Epoch 44/80\n",
            "24/24 [==============================] - 1s 46ms/step - loss: 9.7103e-04 - mean_absolute_error: 0.0229 - val_loss: 0.0021 - val_mean_absolute_error: 0.0301\n",
            "Epoch 45/80\n",
            "24/24 [==============================] - 1s 47ms/step - loss: 9.5702e-04 - mean_absolute_error: 0.0231 - val_loss: 0.0020 - val_mean_absolute_error: 0.0279\n",
            "Epoch 46/80\n",
            "24/24 [==============================] - 1s 47ms/step - loss: 9.6363e-04 - mean_absolute_error: 0.0233 - val_loss: 0.0019 - val_mean_absolute_error: 0.0272\n",
            "Epoch 47/80\n",
            "24/24 [==============================] - 1s 47ms/step - loss: 8.6229e-04 - mean_absolute_error: 0.0216 - val_loss: 0.0018 - val_mean_absolute_error: 0.0267\n",
            "Epoch 48/80\n",
            "24/24 [==============================] - 1s 47ms/step - loss: 8.5830e-04 - mean_absolute_error: 0.0218 - val_loss: 0.0018 - val_mean_absolute_error: 0.0267\n",
            "Epoch 49/80\n",
            "24/24 [==============================] - 1s 50ms/step - loss: 8.7281e-04 - mean_absolute_error: 0.0216 - val_loss: 0.0019 - val_mean_absolute_error: 0.0289\n",
            "Epoch 50/80\n",
            "24/24 [==============================] - 1s 48ms/step - loss: 0.0010 - mean_absolute_error: 0.0243 - val_loss: 0.0039 - val_mean_absolute_error: 0.0533\n",
            "Epoch 51/80\n",
            "24/24 [==============================] - 1s 47ms/step - loss: 8.7443e-04 - mean_absolute_error: 0.0218 - val_loss: 0.0018 - val_mean_absolute_error: 0.0268\n",
            "Epoch 52/80\n",
            "24/24 [==============================] - 1s 48ms/step - loss: 7.8861e-04 - mean_absolute_error: 0.0209 - val_loss: 0.0018 - val_mean_absolute_error: 0.0280\n",
            "Epoch 53/80\n",
            "24/24 [==============================] - 1s 48ms/step - loss: 7.7911e-04 - mean_absolute_error: 0.0208 - val_loss: 0.0017 - val_mean_absolute_error: 0.0259\n",
            "Epoch 54/80\n",
            "24/24 [==============================] - 1s 48ms/step - loss: 7.8474e-04 - mean_absolute_error: 0.0210 - val_loss: 0.0017 - val_mean_absolute_error: 0.0253\n",
            "Epoch 55/80\n",
            "24/24 [==============================] - 1s 47ms/step - loss: 7.7873e-04 - mean_absolute_error: 0.0209 - val_loss: 0.0016 - val_mean_absolute_error: 0.0250\n",
            "Epoch 56/80\n",
            "24/24 [==============================] - 1s 47ms/step - loss: 7.5134e-04 - mean_absolute_error: 0.0203 - val_loss: 0.0019 - val_mean_absolute_error: 0.0321\n",
            "Epoch 57/80\n",
            "24/24 [==============================] - 1s 47ms/step - loss: 8.0628e-04 - mean_absolute_error: 0.0209 - val_loss: 0.0016 - val_mean_absolute_error: 0.0273\n",
            "Epoch 58/80\n",
            "24/24 [==============================] - 1s 48ms/step - loss: 7.3149e-04 - mean_absolute_error: 0.0196 - val_loss: 0.0016 - val_mean_absolute_error: 0.0254\n",
            "Epoch 59/80\n",
            "24/24 [==============================] - 1s 47ms/step - loss: 7.8153e-04 - mean_absolute_error: 0.0206 - val_loss: 0.0016 - val_mean_absolute_error: 0.0269\n",
            "Epoch 60/80\n",
            "24/24 [==============================] - 1s 47ms/step - loss: 7.6013e-04 - mean_absolute_error: 0.0201 - val_loss: 0.0026 - val_mean_absolute_error: 0.0411\n",
            "Epoch 61/80\n",
            "24/24 [==============================] - 1s 47ms/step - loss: 7.5122e-04 - mean_absolute_error: 0.0199 - val_loss: 0.0015 - val_mean_absolute_error: 0.0232\n",
            "Epoch 62/80\n",
            "24/24 [==============================] - 1s 48ms/step - loss: 6.9784e-04 - mean_absolute_error: 0.0194 - val_loss: 0.0016 - val_mean_absolute_error: 0.0263\n",
            "Epoch 63/80\n",
            "24/24 [==============================] - 1s 49ms/step - loss: 7.0432e-04 - mean_absolute_error: 0.0194 - val_loss: 0.0014 - val_mean_absolute_error: 0.0240\n",
            "Epoch 64/80\n",
            "24/24 [==============================] - 1s 47ms/step - loss: 6.9659e-04 - mean_absolute_error: 0.0192 - val_loss: 0.0015 - val_mean_absolute_error: 0.0249\n",
            "Epoch 65/80\n",
            "24/24 [==============================] - 1s 47ms/step - loss: 6.5778e-04 - mean_absolute_error: 0.0186 - val_loss: 0.0020 - val_mean_absolute_error: 0.0335\n",
            "Epoch 66/80\n",
            "24/24 [==============================] - 1s 48ms/step - loss: 6.6852e-04 - mean_absolute_error: 0.0189 - val_loss: 0.0014 - val_mean_absolute_error: 0.0235\n",
            "Epoch 67/80\n",
            "24/24 [==============================] - 1s 48ms/step - loss: 6.7900e-04 - mean_absolute_error: 0.0188 - val_loss: 0.0014 - val_mean_absolute_error: 0.0247\n",
            "Epoch 68/80\n",
            "24/24 [==============================] - 1s 47ms/step - loss: 6.6942e-04 - mean_absolute_error: 0.0185 - val_loss: 0.0014 - val_mean_absolute_error: 0.0233\n",
            "Epoch 69/80\n",
            "24/24 [==============================] - 1s 48ms/step - loss: 6.5185e-04 - mean_absolute_error: 0.0185 - val_loss: 0.0014 - val_mean_absolute_error: 0.0232\n",
            "Epoch 70/80\n",
            "24/24 [==============================] - 1s 47ms/step - loss: 6.8109e-04 - mean_absolute_error: 0.0189 - val_loss: 0.0016 - val_mean_absolute_error: 0.0271\n",
            "Epoch 71/80\n",
            "24/24 [==============================] - 1s 48ms/step - loss: 7.4958e-04 - mean_absolute_error: 0.0206 - val_loss: 0.0024 - val_mean_absolute_error: 0.0393\n",
            "Epoch 72/80\n",
            "24/24 [==============================] - 1s 47ms/step - loss: 6.6369e-04 - mean_absolute_error: 0.0189 - val_loss: 0.0015 - val_mean_absolute_error: 0.0268\n",
            "Epoch 73/80\n",
            "24/24 [==============================] - 1s 47ms/step - loss: 6.4617e-04 - mean_absolute_error: 0.0187 - val_loss: 0.0014 - val_mean_absolute_error: 0.0233\n",
            "Epoch 74/80\n",
            "24/24 [==============================] - 1s 47ms/step - loss: 6.9861e-04 - mean_absolute_error: 0.0194 - val_loss: 0.0014 - val_mean_absolute_error: 0.0233\n",
            "Epoch 75/80\n",
            "24/24 [==============================] - 1s 47ms/step - loss: 7.0191e-04 - mean_absolute_error: 0.0195 - val_loss: 0.0021 - val_mean_absolute_error: 0.0354\n",
            "Epoch 76/80\n",
            "24/24 [==============================] - 1s 47ms/step - loss: 6.4371e-04 - mean_absolute_error: 0.0186 - val_loss: 0.0014 - val_mean_absolute_error: 0.0235\n",
            "Epoch 77/80\n",
            "24/24 [==============================] - 1s 47ms/step - loss: 6.5528e-04 - mean_absolute_error: 0.0185 - val_loss: 0.0013 - val_mean_absolute_error: 0.0245\n",
            "Epoch 78/80\n",
            "24/24 [==============================] - 1s 46ms/step - loss: 5.9109e-04 - mean_absolute_error: 0.0176 - val_loss: 0.0012 - val_mean_absolute_error: 0.0220\n",
            "Epoch 79/80\n",
            "24/24 [==============================] - 1s 47ms/step - loss: 6.0689e-04 - mean_absolute_error: 0.0178 - val_loss: 0.0012 - val_mean_absolute_error: 0.0207\n",
            "Epoch 80/80\n",
            "24/24 [==============================] - 1s 47ms/step - loss: 5.8563e-04 - mean_absolute_error: 0.0171 - val_loss: 0.0020 - val_mean_absolute_error: 0.0356\n"
          ]
        },
        {
          "output_type": "execute_result",
          "data": {
            "text/plain": [
              "<keras.callbacks.History at 0x7fdf3a4c3dd0>"
            ]
          },
          "metadata": {},
          "execution_count": 38
        }
      ]
    },
    {
      "cell_type": "code",
      "source": [
        "test_predicted = model.predict(test_seq)"
      ],
      "metadata": {
        "colab": {
          "base_uri": "https://localhost:8080/"
        },
        "id": "LQcxW30umsUG",
        "outputId": "1a649430-cbc3-4214-c0e7-8955a6dab13b"
      },
      "execution_count": 39,
      "outputs": [
        {
          "output_type": "stream",
          "name": "stdout",
          "text": [
            "5/5 [==============================] - 1s 22ms/step\n"
          ]
        }
      ]
    },
    {
      "cell_type": "code",
      "source": [
        "test_inverse_predicted = Ms.inverse_transform(test_predicted)"
      ],
      "metadata": {
        "id": "LjwpkOxQnUDO"
      },
      "execution_count": 41,
      "outputs": []
    },
    {
      "cell_type": "code",
      "source": [
        "# Merging actual and predicted data for better visualization\n",
        "gs_slic_data = pd.concat([gstock_data .iloc[-152:].copy(),pd.DataFrame(test_inverse_predicted,columns=['open_predicted','close_predicted'],index=gstock_data .iloc[-152:].index)], axis=1)"
      ],
      "metadata": {
        "id": "8L03TCLunYrO"
      },
      "execution_count": 49,
      "outputs": []
    },
    {
      "cell_type": "code",
      "source": [
        "gs_slic_data[['Open','Close']] = Ms.inverse_transform(gs_slic_data[['Open','Close']])"
      ],
      "metadata": {
        "id": "PpkbuEdzqak9"
      },
      "execution_count": 50,
      "outputs": []
    },
    {
      "cell_type": "code",
      "source": [
        "gs_slic_data.head()"
      ],
      "metadata": {
        "colab": {
          "base_uri": "https://localhost:8080/",
          "height": 237
        },
        "id": "yZB9kiNHqn1m",
        "outputId": "78fd5f15-0add-45b3-fb92-1825716c59c5"
      },
      "execution_count": 51,
      "outputs": [
        {
          "output_type": "execute_result",
          "data": {
            "text/plain": [
              "                  Open       Close  open_predicted  close_predicted\n",
              "Date                                                               \n",
              "2021-07-01  525.719971  533.539978      517.857239       521.272949\n",
              "2021-07-02  535.500000  533.979980      517.081848       520.380066\n",
              "2021-07-06  533.000000  541.640015      521.375183       524.139648\n",
              "2021-07-07  544.239990  535.960022      526.242126       528.871582\n",
              "2021-07-08  530.929993  530.760010      527.511597       530.600281"
            ],
            "text/html": [
              "\n",
              "  <div id=\"df-292ba145-049b-48ff-a6c9-20551dbe1059\">\n",
              "    <div class=\"colab-df-container\">\n",
              "      <div>\n",
              "<style scoped>\n",
              "    .dataframe tbody tr th:only-of-type {\n",
              "        vertical-align: middle;\n",
              "    }\n",
              "\n",
              "    .dataframe tbody tr th {\n",
              "        vertical-align: top;\n",
              "    }\n",
              "\n",
              "    .dataframe thead th {\n",
              "        text-align: right;\n",
              "    }\n",
              "</style>\n",
              "<table border=\"1\" class=\"dataframe\">\n",
              "  <thead>\n",
              "    <tr style=\"text-align: right;\">\n",
              "      <th></th>\n",
              "      <th>Open</th>\n",
              "      <th>Close</th>\n",
              "      <th>open_predicted</th>\n",
              "      <th>close_predicted</th>\n",
              "    </tr>\n",
              "    <tr>\n",
              "      <th>Date</th>\n",
              "      <th></th>\n",
              "      <th></th>\n",
              "      <th></th>\n",
              "      <th></th>\n",
              "    </tr>\n",
              "  </thead>\n",
              "  <tbody>\n",
              "    <tr>\n",
              "      <th>2021-07-01</th>\n",
              "      <td>525.719971</td>\n",
              "      <td>533.539978</td>\n",
              "      <td>517.857239</td>\n",
              "      <td>521.272949</td>\n",
              "    </tr>\n",
              "    <tr>\n",
              "      <th>2021-07-02</th>\n",
              "      <td>535.500000</td>\n",
              "      <td>533.979980</td>\n",
              "      <td>517.081848</td>\n",
              "      <td>520.380066</td>\n",
              "    </tr>\n",
              "    <tr>\n",
              "      <th>2021-07-06</th>\n",
              "      <td>533.000000</td>\n",
              "      <td>541.640015</td>\n",
              "      <td>521.375183</td>\n",
              "      <td>524.139648</td>\n",
              "    </tr>\n",
              "    <tr>\n",
              "      <th>2021-07-07</th>\n",
              "      <td>544.239990</td>\n",
              "      <td>535.960022</td>\n",
              "      <td>526.242126</td>\n",
              "      <td>528.871582</td>\n",
              "    </tr>\n",
              "    <tr>\n",
              "      <th>2021-07-08</th>\n",
              "      <td>530.929993</td>\n",
              "      <td>530.760010</td>\n",
              "      <td>527.511597</td>\n",
              "      <td>530.600281</td>\n",
              "    </tr>\n",
              "  </tbody>\n",
              "</table>\n",
              "</div>\n",
              "      <button class=\"colab-df-convert\" onclick=\"convertToInteractive('df-292ba145-049b-48ff-a6c9-20551dbe1059')\"\n",
              "              title=\"Convert this dataframe to an interactive table.\"\n",
              "              style=\"display:none;\">\n",
              "        \n",
              "  <svg xmlns=\"http://www.w3.org/2000/svg\" height=\"24px\"viewBox=\"0 0 24 24\"\n",
              "       width=\"24px\">\n",
              "    <path d=\"M0 0h24v24H0V0z\" fill=\"none\"/>\n",
              "    <path d=\"M18.56 5.44l.94 2.06.94-2.06 2.06-.94-2.06-.94-.94-2.06-.94 2.06-2.06.94zm-11 1L8.5 8.5l.94-2.06 2.06-.94-2.06-.94L8.5 2.5l-.94 2.06-2.06.94zm10 10l.94 2.06.94-2.06 2.06-.94-2.06-.94-.94-2.06-.94 2.06-2.06.94z\"/><path d=\"M17.41 7.96l-1.37-1.37c-.4-.4-.92-.59-1.43-.59-.52 0-1.04.2-1.43.59L10.3 9.45l-7.72 7.72c-.78.78-.78 2.05 0 2.83L4 21.41c.39.39.9.59 1.41.59.51 0 1.02-.2 1.41-.59l7.78-7.78 2.81-2.81c.8-.78.8-2.07 0-2.86zM5.41 20L4 18.59l7.72-7.72 1.47 1.35L5.41 20z\"/>\n",
              "  </svg>\n",
              "      </button>\n",
              "      \n",
              "  <style>\n",
              "    .colab-df-container {\n",
              "      display:flex;\n",
              "      flex-wrap:wrap;\n",
              "      gap: 12px;\n",
              "    }\n",
              "\n",
              "    .colab-df-convert {\n",
              "      background-color: #E8F0FE;\n",
              "      border: none;\n",
              "      border-radius: 50%;\n",
              "      cursor: pointer;\n",
              "      display: none;\n",
              "      fill: #1967D2;\n",
              "      height: 32px;\n",
              "      padding: 0 0 0 0;\n",
              "      width: 32px;\n",
              "    }\n",
              "\n",
              "    .colab-df-convert:hover {\n",
              "      background-color: #E2EBFA;\n",
              "      box-shadow: 0px 1px 2px rgba(60, 64, 67, 0.3), 0px 1px 3px 1px rgba(60, 64, 67, 0.15);\n",
              "      fill: #174EA6;\n",
              "    }\n",
              "\n",
              "    [theme=dark] .colab-df-convert {\n",
              "      background-color: #3B4455;\n",
              "      fill: #D2E3FC;\n",
              "    }\n",
              "\n",
              "    [theme=dark] .colab-df-convert:hover {\n",
              "      background-color: #434B5C;\n",
              "      box-shadow: 0px 1px 3px 1px rgba(0, 0, 0, 0.15);\n",
              "      filter: drop-shadow(0px 1px 2px rgba(0, 0, 0, 0.3));\n",
              "      fill: #FFFFFF;\n",
              "    }\n",
              "  </style>\n",
              "\n",
              "      <script>\n",
              "        const buttonEl =\n",
              "          document.querySelector('#df-292ba145-049b-48ff-a6c9-20551dbe1059 button.colab-df-convert');\n",
              "        buttonEl.style.display =\n",
              "          google.colab.kernel.accessAllowed ? 'block' : 'none';\n",
              "\n",
              "        async function convertToInteractive(key) {\n",
              "          const element = document.querySelector('#df-292ba145-049b-48ff-a6c9-20551dbe1059');\n",
              "          const dataTable =\n",
              "            await google.colab.kernel.invokeFunction('convertToInteractive',\n",
              "                                                     [key], {});\n",
              "          if (!dataTable) return;\n",
              "\n",
              "          const docLinkHtml = 'Like what you see? Visit the ' +\n",
              "            '<a target=\"_blank\" href=https://colab.research.google.com/notebooks/data_table.ipynb>data table notebook</a>'\n",
              "            + ' to learn more about interactive tables.';\n",
              "          element.innerHTML = '';\n",
              "          dataTable['output_type'] = 'display_data';\n",
              "          await google.colab.output.renderOutput(dataTable, element);\n",
              "          const docLink = document.createElement('div');\n",
              "          docLink.innerHTML = docLinkHtml;\n",
              "          element.appendChild(docLink);\n",
              "        }\n",
              "      </script>\n",
              "    </div>\n",
              "  </div>\n",
              "  "
            ]
          },
          "metadata": {},
          "execution_count": 51
        }
      ]
    },
    {
      "cell_type": "code",
      "source": [
        "gs_slic_data[['Close','close_predicted']].plot(figsize=(10,6))\n",
        "plt.xticks(rotation=45)\n",
        "plt.xlabel('Date',size=15)\n",
        "plt.ylabel('Stock Price',size=15)\n",
        "plt.title('Actual vs Predicted for close price',size=15)\n",
        "plt.show()"
      ],
      "metadata": {
        "colab": {
          "base_uri": "https://localhost:8080/",
          "height": 405
        },
        "id": "s5I-nbykq1GP",
        "outputId": "7b0a20a8-7303-4daa-cfb3-c08f32a5e127"
      },
      "execution_count": 54,
      "outputs": [
        {
          "output_type": "display_data",
          "data": {
            "text/plain": [
              "<Figure size 720x432 with 1 Axes>"
            ],
            "image/png": "[encoded data removed]"
          },
          "metadata": {
            "needs_background": "light"
          }
        }
      ]
    },
    {
      "cell_type": "code",
      "source": [],
      "metadata": {
        "id": "Pv8S4yRorgii"
      },
      "execution_count": null,
      "outputs": []
    }
  ]
}